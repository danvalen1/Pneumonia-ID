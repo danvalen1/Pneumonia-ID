{
 "cells": [
  {
   "cell_type": "markdown",
   "metadata": {},
   "source": [
    "# Overview\n",
    "\n",
    "This notebook is to create a csv file that contains all absolute path of images that will be available from the data set. This CSV file will be used to as an index reference of data import in the future. \n",
    "\n",
    "The `image_index.csv` contains following columns:\n",
    "- img: absolute path to the image\n",
    "- data_set: what data set the image belongs to (test:0, train:1, val:2)\n",
    "- condition: the status of the lung (NOMRAL: 0, PNEUMONIA: 1)"
   ]
  },
  {
   "cell_type": "markdown",
   "metadata": {},
   "source": [
    "## Libraries Import"
   ]
  },
  {
   "cell_type": "code",
   "execution_count": 12,
   "metadata": {},
   "outputs": [],
   "source": [
    "import os\n",
    "import pandas as pd"
   ]
  },
  {
   "cell_type": "markdown",
   "metadata": {},
   "source": [
    "## File Directory Import"
   ]
  },
  {
   "cell_type": "code",
   "execution_count": 40,
   "metadata": {},
   "outputs": [],
   "source": [
    "#base path of all data\n",
    "basepath = \"..\\..\\data\\extracted\\chest_xray\""
   ]
  },
  {
   "cell_type": "code",
   "execution_count": 41,
   "metadata": {},
   "outputs": [],
   "source": [
    "# folders with items\n",
    "folders = [\"test\", \"train\", \"val\"]"
   ]
  },
  {
   "cell_type": "code",
   "execution_count": 47,
   "metadata": {},
   "outputs": [],
   "source": [
    "# intialize output list\n",
    "img_type_list = []\n",
    "full_path_list = []\n",
    "condition_list = []\n",
    "\n",
    "# for every folder containing images\n",
    "# i: test:0, train:1, val:2\n",
    "for i, folder in enumerate(folders):\n",
    "    # get the subpath of this folder\n",
    "    subpath = os.path.join(basepath, folder)\n",
    "    # j: NOMRAL = 0 PNEUMONIA = 1\n",
    "    for j, subfolder in enumerate(os.listdir(subpath)):\n",
    "        # when in subfolder get list of directory\n",
    "        abs_subfolder = os.path.join(subpath, subfolder) #absolute path to the subfolder\n",
    "        dir_list = os.listdir(abs_subfolder) #get list of directory\n",
    "        # absolute path to all images\n",
    "        full_dir_list = [os.path.join(abs_subfolder, file) for file in dir_list]\n",
    "        \n",
    "        # \"append\" the list of images, image data set type, and conditions\n",
    "        full_path_list = full_path_list + full_dir_list\n",
    "        img_type_list = img_type_list + [i] * len(full_dir_list)\n",
    "        condition_list = condition_list + [j] * len(full_dir_list)"
   ]
  },
  {
   "cell_type": "code",
   "execution_count": 53,
   "metadata": {},
   "outputs": [],
   "source": [
    "file_directory_dict = {\"img\":full_path_list, \"data_set\":img_type_list, \"condition\":condition_list}\n",
    "\n",
    "\n",
    "filepath_df = pd.DataFrame.from_dict(file_directory_dict)"
   ]
  },
  {
   "cell_type": "code",
   "execution_count": 55,
   "metadata": {},
   "outputs": [],
   "source": [
    "filepath_df.to_csv(\"..\\..\\data\\image_index.csv\")"
   ]
  },
  {
   "cell_type": "code",
   "execution_count": null,
   "metadata": {},
   "outputs": [],
   "source": []
  }
 ],
 "metadata": {
  "kernelspec": {
   "display_name": "fitsnbits",
   "language": "python",
   "name": "fitsnbits"
  },
  "language_info": {
   "codemirror_mode": {
    "name": "ipython",
    "version": 3
   },
   "file_extension": ".py",
   "mimetype": "text/x-python",
   "name": "python",
   "nbconvert_exporter": "python",
   "pygments_lexer": "ipython3",
   "version": "3.7.9"
  }
 },
 "nbformat": 4,
 "nbformat_minor": 4
}
