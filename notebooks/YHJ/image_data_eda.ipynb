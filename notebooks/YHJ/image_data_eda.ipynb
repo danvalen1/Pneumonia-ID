{
 "cells": [
  {
   "cell_type": "markdown",
   "metadata": {},
   "source": [
    "# Overview\n",
    "\n",
    "Get image index and process them to a data structure for torch"
   ]
  },
  {
   "cell_type": "markdown",
   "metadata": {},
   "source": [
    "## Libraries and Data Import"
   ]
  },
  {
   "cell_type": "code",
   "execution_count": 1,
   "metadata": {},
   "outputs": [],
   "source": [
    "import os\n",
    "import pandas as pd\n",
    "from PIL import Image\n",
    "import torchvision as tv\n",
    "import torchvision.transforms.functional as TF\n",
    "\n",
    "import matplotlib.pyplot as plt\n",
    "import seaborn as sns\n",
    "\n",
    "%matplotlib inline"
   ]
  },
  {
   "cell_type": "code",
   "execution_count": 2,
   "metadata": {
    "scrolled": true
   },
   "outputs": [
    {
     "data": {
      "text/html": [
       "<div>\n",
       "<style scoped>\n",
       "    .dataframe tbody tr th:only-of-type {\n",
       "        vertical-align: middle;\n",
       "    }\n",
       "\n",
       "    .dataframe tbody tr th {\n",
       "        vertical-align: top;\n",
       "    }\n",
       "\n",
       "    .dataframe thead th {\n",
       "        text-align: right;\n",
       "    }\n",
       "</style>\n",
       "<table border=\"1\" class=\"dataframe\">\n",
       "  <thead>\n",
       "    <tr style=\"text-align: right;\">\n",
       "      <th></th>\n",
       "      <th>img</th>\n",
       "      <th>data_set</th>\n",
       "      <th>condition</th>\n",
       "    </tr>\n",
       "  </thead>\n",
       "  <tbody>\n",
       "    <tr>\n",
       "      <th>0</th>\n",
       "      <td>..\\..\\data\\extracted\\chest_xray\\test\\NORMAL\\IM...</td>\n",
       "      <td>0</td>\n",
       "      <td>0</td>\n",
       "    </tr>\n",
       "    <tr>\n",
       "      <th>1</th>\n",
       "      <td>..\\..\\data\\extracted\\chest_xray\\test\\NORMAL\\IM...</td>\n",
       "      <td>0</td>\n",
       "      <td>0</td>\n",
       "    </tr>\n",
       "    <tr>\n",
       "      <th>2</th>\n",
       "      <td>..\\..\\data\\extracted\\chest_xray\\test\\NORMAL\\IM...</td>\n",
       "      <td>0</td>\n",
       "      <td>0</td>\n",
       "    </tr>\n",
       "    <tr>\n",
       "      <th>3</th>\n",
       "      <td>..\\..\\data\\extracted\\chest_xray\\test\\NORMAL\\IM...</td>\n",
       "      <td>0</td>\n",
       "      <td>0</td>\n",
       "    </tr>\n",
       "    <tr>\n",
       "      <th>4</th>\n",
       "      <td>..\\..\\data\\extracted\\chest_xray\\test\\NORMAL\\IM...</td>\n",
       "      <td>0</td>\n",
       "      <td>0</td>\n",
       "    </tr>\n",
       "  </tbody>\n",
       "</table>\n",
       "</div>"
      ],
      "text/plain": [
       "                                                 img  data_set  condition\n",
       "0  ..\\..\\data\\extracted\\chest_xray\\test\\NORMAL\\IM...         0          0\n",
       "1  ..\\..\\data\\extracted\\chest_xray\\test\\NORMAL\\IM...         0          0\n",
       "2  ..\\..\\data\\extracted\\chest_xray\\test\\NORMAL\\IM...         0          0\n",
       "3  ..\\..\\data\\extracted\\chest_xray\\test\\NORMAL\\IM...         0          0\n",
       "4  ..\\..\\data\\extracted\\chest_xray\\test\\NORMAL\\IM...         0          0"
      ]
     },
     "execution_count": 2,
     "metadata": {},
     "output_type": "execute_result"
    }
   ],
   "source": [
    "index_df = pd.read_csv(\"../../data/image_index.csv\", index_col=0)\n",
    "index_df.head()"
   ]
  },
  {
   "cell_type": "markdown",
   "metadata": {},
   "source": [
    "## Check for image size distribution\n",
    "\n",
    "This will determine the cropping and sizing process"
   ]
  },
  {
   "cell_type": "code",
   "execution_count": 3,
   "metadata": {},
   "outputs": [],
   "source": [
    "def img_to_tensor_shape(path):\n",
    "    return list(tv.io.read_image(path).shape)"
   ]
  },
  {
   "cell_type": "code",
   "execution_count": 4,
   "metadata": {},
   "outputs": [],
   "source": [
    "index_df[\"image_tensor\"] = index_df.img.apply(img_to_tensor_shape)"
   ]
  },
  {
   "cell_type": "code",
   "execution_count": 5,
   "metadata": {
    "scrolled": true
   },
   "outputs": [],
   "source": [
    "index_df[\"channels\"] = index_df.image_tensor.apply(lambda x: x[0])\n",
    "index_df[\"height\"] = index_df.image_tensor.apply(lambda x: x[1])\n",
    "index_df[\"width\"] = index_df.image_tensor.apply(lambda x: x[2])"
   ]
  },
  {
   "cell_type": "code",
   "execution_count": 6,
   "metadata": {},
   "outputs": [],
   "source": [
    "def name_data_set(num):\n",
    "    if num == 0:\n",
    "        return \"test\"\n",
    "    elif num == 1:\n",
    "        return \"train\"\n",
    "    else:\n",
    "        return \"validation\""
   ]
  },
  {
   "cell_type": "code",
   "execution_count": 7,
   "metadata": {},
   "outputs": [],
   "source": [
    "index_df[\"data_set_name\"] = index_df.data_set.apply(name_data_set)"
   ]
  },
  {
   "cell_type": "code",
   "execution_count": 8,
   "metadata": {
    "scrolled": false
   },
   "outputs": [
    {
     "data": {
      "text/html": [
       "<div>\n",
       "<style scoped>\n",
       "    .dataframe tbody tr th:only-of-type {\n",
       "        vertical-align: middle;\n",
       "    }\n",
       "\n",
       "    .dataframe tbody tr th {\n",
       "        vertical-align: top;\n",
       "    }\n",
       "\n",
       "    .dataframe thead th {\n",
       "        text-align: right;\n",
       "    }\n",
       "</style>\n",
       "<table border=\"1\" class=\"dataframe\">\n",
       "  <thead>\n",
       "    <tr style=\"text-align: right;\">\n",
       "      <th></th>\n",
       "      <th>img</th>\n",
       "      <th>data_set</th>\n",
       "      <th>condition</th>\n",
       "      <th>image_tensor</th>\n",
       "      <th>channels</th>\n",
       "      <th>height</th>\n",
       "      <th>width</th>\n",
       "      <th>data_set_name</th>\n",
       "    </tr>\n",
       "  </thead>\n",
       "  <tbody>\n",
       "    <tr>\n",
       "      <th>0</th>\n",
       "      <td>..\\..\\data\\extracted\\chest_xray\\test\\NORMAL\\IM...</td>\n",
       "      <td>0</td>\n",
       "      <td>0</td>\n",
       "      <td>[1, 1317, 1857]</td>\n",
       "      <td>1</td>\n",
       "      <td>1317</td>\n",
       "      <td>1857</td>\n",
       "      <td>test</td>\n",
       "    </tr>\n",
       "    <tr>\n",
       "      <th>1</th>\n",
       "      <td>..\\..\\data\\extracted\\chest_xray\\test\\NORMAL\\IM...</td>\n",
       "      <td>0</td>\n",
       "      <td>0</td>\n",
       "      <td>[1, 1509, 2111]</td>\n",
       "      <td>1</td>\n",
       "      <td>1509</td>\n",
       "      <td>2111</td>\n",
       "      <td>test</td>\n",
       "    </tr>\n",
       "    <tr>\n",
       "      <th>2</th>\n",
       "      <td>..\\..\\data\\extracted\\chest_xray\\test\\NORMAL\\IM...</td>\n",
       "      <td>0</td>\n",
       "      <td>0</td>\n",
       "      <td>[1, 1837, 2031]</td>\n",
       "      <td>1</td>\n",
       "      <td>1837</td>\n",
       "      <td>2031</td>\n",
       "      <td>test</td>\n",
       "    </tr>\n",
       "    <tr>\n",
       "      <th>3</th>\n",
       "      <td>..\\..\\data\\extracted\\chest_xray\\test\\NORMAL\\IM...</td>\n",
       "      <td>0</td>\n",
       "      <td>0</td>\n",
       "      <td>[1, 1326, 1663]</td>\n",
       "      <td>1</td>\n",
       "      <td>1326</td>\n",
       "      <td>1663</td>\n",
       "      <td>test</td>\n",
       "    </tr>\n",
       "    <tr>\n",
       "      <th>4</th>\n",
       "      <td>..\\..\\data\\extracted\\chest_xray\\test\\NORMAL\\IM...</td>\n",
       "      <td>0</td>\n",
       "      <td>0</td>\n",
       "      <td>[1, 1818, 2053]</td>\n",
       "      <td>1</td>\n",
       "      <td>1818</td>\n",
       "      <td>2053</td>\n",
       "      <td>test</td>\n",
       "    </tr>\n",
       "  </tbody>\n",
       "</table>\n",
       "</div>"
      ],
      "text/plain": [
       "                                                 img  data_set  condition  \\\n",
       "0  ..\\..\\data\\extracted\\chest_xray\\test\\NORMAL\\IM...         0          0   \n",
       "1  ..\\..\\data\\extracted\\chest_xray\\test\\NORMAL\\IM...         0          0   \n",
       "2  ..\\..\\data\\extracted\\chest_xray\\test\\NORMAL\\IM...         0          0   \n",
       "3  ..\\..\\data\\extracted\\chest_xray\\test\\NORMAL\\IM...         0          0   \n",
       "4  ..\\..\\data\\extracted\\chest_xray\\test\\NORMAL\\IM...         0          0   \n",
       "\n",
       "      image_tensor  channels  height  width data_set_name  \n",
       "0  [1, 1317, 1857]         1    1317   1857          test  \n",
       "1  [1, 1509, 2111]         1    1509   2111          test  \n",
       "2  [1, 1837, 2031]         1    1837   2031          test  \n",
       "3  [1, 1326, 1663]         1    1326   1663          test  \n",
       "4  [1, 1818, 2053]         1    1818   2053          test  "
      ]
     },
     "execution_count": 8,
     "metadata": {},
     "output_type": "execute_result"
    }
   ],
   "source": [
    "index_df.head()"
   ]
  },
  {
   "cell_type": "code",
   "execution_count": 9,
   "metadata": {
    "scrolled": false
   },
   "outputs": [
    {
     "data": {
      "text/html": [
       "<div>\n",
       "<style scoped>\n",
       "    .dataframe tbody tr th:only-of-type {\n",
       "        vertical-align: middle;\n",
       "    }\n",
       "\n",
       "    .dataframe tbody tr th {\n",
       "        vertical-align: top;\n",
       "    }\n",
       "\n",
       "    .dataframe thead tr th {\n",
       "        text-align: left;\n",
       "    }\n",
       "\n",
       "    .dataframe thead tr:last-of-type th {\n",
       "        text-align: right;\n",
       "    }\n",
       "</style>\n",
       "<table border=\"1\" class=\"dataframe\">\n",
       "  <thead>\n",
       "    <tr>\n",
       "      <th></th>\n",
       "      <th></th>\n",
       "      <th colspan=\"8\" halign=\"left\">height</th>\n",
       "      <th colspan=\"8\" halign=\"left\">width</th>\n",
       "    </tr>\n",
       "    <tr>\n",
       "      <th></th>\n",
       "      <th></th>\n",
       "      <th>count</th>\n",
       "      <th>mean</th>\n",
       "      <th>std</th>\n",
       "      <th>min</th>\n",
       "      <th>25%</th>\n",
       "      <th>50%</th>\n",
       "      <th>75%</th>\n",
       "      <th>max</th>\n",
       "      <th>count</th>\n",
       "      <th>mean</th>\n",
       "      <th>std</th>\n",
       "      <th>min</th>\n",
       "      <th>25%</th>\n",
       "      <th>50%</th>\n",
       "      <th>75%</th>\n",
       "      <th>max</th>\n",
       "    </tr>\n",
       "    <tr>\n",
       "      <th>data_set</th>\n",
       "      <th>channels</th>\n",
       "      <th></th>\n",
       "      <th></th>\n",
       "      <th></th>\n",
       "      <th></th>\n",
       "      <th></th>\n",
       "      <th></th>\n",
       "      <th></th>\n",
       "      <th></th>\n",
       "      <th></th>\n",
       "      <th></th>\n",
       "      <th></th>\n",
       "      <th></th>\n",
       "      <th></th>\n",
       "      <th></th>\n",
       "      <th></th>\n",
       "      <th></th>\n",
       "    </tr>\n",
       "  </thead>\n",
       "  <tbody>\n",
       "    <tr>\n",
       "      <th>0</th>\n",
       "      <th>1</th>\n",
       "      <td>624.0</td>\n",
       "      <td>991.714744</td>\n",
       "      <td>421.608963</td>\n",
       "      <td>344.0</td>\n",
       "      <td>688.0</td>\n",
       "      <td>870.5</td>\n",
       "      <td>1183.25</td>\n",
       "      <td>2713.0</td>\n",
       "      <td>624.0</td>\n",
       "      <td>1388.128205</td>\n",
       "      <td>423.573061</td>\n",
       "      <td>728.0</td>\n",
       "      <td>1072.0</td>\n",
       "      <td>1265.0</td>\n",
       "      <td>1640.0</td>\n",
       "      <td>2752.0</td>\n",
       "    </tr>\n",
       "    <tr>\n",
       "      <th rowspan=\"2\" valign=\"top\">1</th>\n",
       "      <th>1</th>\n",
       "      <td>4933.0</td>\n",
       "      <td>998.699777</td>\n",
       "      <td>364.738819</td>\n",
       "      <td>360.0</td>\n",
       "      <td>720.0</td>\n",
       "      <td>920.0</td>\n",
       "      <td>1208.00</td>\n",
       "      <td>2663.0</td>\n",
       "      <td>4933.0</td>\n",
       "      <td>1354.176769</td>\n",
       "      <td>332.702747</td>\n",
       "      <td>664.0</td>\n",
       "      <td>1088.0</td>\n",
       "      <td>1310.0</td>\n",
       "      <td>1568.0</td>\n",
       "      <td>2916.0</td>\n",
       "    </tr>\n",
       "    <tr>\n",
       "      <th>3</th>\n",
       "      <td>283.0</td>\n",
       "      <td>434.247350</td>\n",
       "      <td>158.876515</td>\n",
       "      <td>127.0</td>\n",
       "      <td>284.0</td>\n",
       "      <td>467.0</td>\n",
       "      <td>553.50</td>\n",
       "      <td>720.0</td>\n",
       "      <td>283.0</td>\n",
       "      <td>735.519435</td>\n",
       "      <td>187.939335</td>\n",
       "      <td>384.0</td>\n",
       "      <td>553.5</td>\n",
       "      <td>759.0</td>\n",
       "      <td>863.5</td>\n",
       "      <td>1287.0</td>\n",
       "    </tr>\n",
       "    <tr>\n",
       "      <th>2</th>\n",
       "      <th>1</th>\n",
       "      <td>16.0</td>\n",
       "      <td>1002.937500</td>\n",
       "      <td>262.954868</td>\n",
       "      <td>592.0</td>\n",
       "      <td>826.0</td>\n",
       "      <td>996.0</td>\n",
       "      <td>1152.25</td>\n",
       "      <td>1416.0</td>\n",
       "      <td>16.0</td>\n",
       "      <td>1348.250000</td>\n",
       "      <td>256.771624</td>\n",
       "      <td>968.0</td>\n",
       "      <td>1182.0</td>\n",
       "      <td>1280.0</td>\n",
       "      <td>1581.0</td>\n",
       "      <td>1776.0</td>\n",
       "    </tr>\n",
       "  </tbody>\n",
       "</table>\n",
       "</div>"
      ],
      "text/plain": [
       "                   height                                                \\\n",
       "                    count         mean         std    min    25%    50%   \n",
       "data_set channels                                                         \n",
       "0        1          624.0   991.714744  421.608963  344.0  688.0  870.5   \n",
       "1        1         4933.0   998.699777  364.738819  360.0  720.0  920.0   \n",
       "         3          283.0   434.247350  158.876515  127.0  284.0  467.0   \n",
       "2        1           16.0  1002.937500  262.954868  592.0  826.0  996.0   \n",
       "\n",
       "                                     width                                  \\\n",
       "                       75%     max   count         mean         std    min   \n",
       "data_set channels                                                            \n",
       "0        1         1183.25  2713.0   624.0  1388.128205  423.573061  728.0   \n",
       "1        1         1208.00  2663.0  4933.0  1354.176769  332.702747  664.0   \n",
       "         3          553.50   720.0   283.0   735.519435  187.939335  384.0   \n",
       "2        1         1152.25  1416.0    16.0  1348.250000  256.771624  968.0   \n",
       "\n",
       "                                                   \n",
       "                      25%     50%     75%     max  \n",
       "data_set channels                                  \n",
       "0        1         1072.0  1265.0  1640.0  2752.0  \n",
       "1        1         1088.0  1310.0  1568.0  2916.0  \n",
       "         3          553.5   759.0   863.5  1287.0  \n",
       "2        1         1182.0  1280.0  1581.0  1776.0  "
      ]
     },
     "execution_count": 9,
     "metadata": {},
     "output_type": "execute_result"
    }
   ],
   "source": [
    "index_df.groupby([\"data_set\", \"channels\"])[[\"height\", \"width\"]].describe()"
   ]
  },
  {
   "cell_type": "markdown",
   "metadata": {},
   "source": [
    "- Test(data_set == 0) only contains greyscale images\n",
    "    - Min Height: 344\n",
    "    - Max Height: 688\n",
    "- Train(data_set == 1) contains color and greyscale images\n",
    "- Validate(data_set == 2) only contains greyscale images"
   ]
  },
  {
   "cell_type": "code",
   "execution_count": 10,
   "metadata": {},
   "outputs": [
    {
     "data": {
      "text/html": [
       "<div>\n",
       "<style scoped>\n",
       "    .dataframe tbody tr th:only-of-type {\n",
       "        vertical-align: middle;\n",
       "    }\n",
       "\n",
       "    .dataframe tbody tr th {\n",
       "        vertical-align: top;\n",
       "    }\n",
       "\n",
       "    .dataframe thead th {\n",
       "        text-align: right;\n",
       "    }\n",
       "</style>\n",
       "<table border=\"1\" class=\"dataframe\">\n",
       "  <thead>\n",
       "    <tr style=\"text-align: right;\">\n",
       "      <th></th>\n",
       "      <th>height</th>\n",
       "      <th>width</th>\n",
       "    </tr>\n",
       "    <tr>\n",
       "      <th>data_set_name</th>\n",
       "      <th></th>\n",
       "      <th></th>\n",
       "    </tr>\n",
       "  </thead>\n",
       "  <tbody>\n",
       "    <tr>\n",
       "      <th>test</th>\n",
       "      <td>991.714744</td>\n",
       "      <td>1388.128205</td>\n",
       "    </tr>\n",
       "    <tr>\n",
       "      <th>train</th>\n",
       "      <td>968.074770</td>\n",
       "      <td>1320.610813</td>\n",
       "    </tr>\n",
       "    <tr>\n",
       "      <th>validation</th>\n",
       "      <td>1002.937500</td>\n",
       "      <td>1348.250000</td>\n",
       "    </tr>\n",
       "  </tbody>\n",
       "</table>\n",
       "</div>"
      ],
      "text/plain": [
       "                    height        width\n",
       "data_set_name                          \n",
       "test            991.714744  1388.128205\n",
       "train           968.074770  1320.610813\n",
       "validation     1002.937500  1348.250000"
      ]
     },
     "execution_count": 10,
     "metadata": {},
     "output_type": "execute_result"
    }
   ],
   "source": [
    "index_df.groupby(\"data_set_name\")[[\"height\", \"width\"]].mean()"
   ]
  },
  {
   "cell_type": "code",
   "execution_count": 148,
   "metadata": {},
   "outputs": [
    {
     "data": {
      "image/png": "[encoded data removed]",
      "text/plain": [
       "<Figure size 432x432 with 3 Axes>"
      ]
     },
     "metadata": {
      "needs_background": "light"
     },
     "output_type": "display_data"
    }
   ],
   "source": [
    "sns.jointplot(data=index_df, x=\"width\", y=\"height\", hue=\"data_set_name\", kind=\"hist\")\n",
    "plt.suptitle(\"Image Size Distribution in Data Sets\", size=14, y=0.98)\n",
    "plt.tight_layout()\n",
    "plt.savefig(\"../../images/image_pix_dist.png\")\n",
    "plt.show()"
   ]
  }
 ],
 "metadata": {
  "kernelspec": {
   "display_name": "fitsnbits",
   "language": "python",
   "name": "fitsnbits"
  },
  "language_info": {
   "codemirror_mode": {
    "name": "ipython",
    "version": 3
   },
   "file_extension": ".py",
   "mimetype": "text/x-python",
   "name": "python",
   "nbconvert_exporter": "python",
   "pygments_lexer": "ipython3",
   "version": "3.7.9"
  }
 },
 "nbformat": 4,
 "nbformat_minor": 4
}
