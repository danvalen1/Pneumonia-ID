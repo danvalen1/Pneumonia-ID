{
 "cells": [
  {
   "cell_type": "markdown",
   "metadata": {},
   "source": [
    "# Image Processing EDA"
   ]
  },
  {
   "cell_type": "markdown",
   "metadata": {},
   "source": [
    "## Creating function to get correct crop percentages"
   ]
  },
  {
   "cell_type": "code",
   "execution_count": 8,
   "metadata": {},
   "outputs": [],
   "source": [
    "def crop1to1(img_tensor):\n",
    "    \"\"\"\n",
    "    Given an image tensor  of (channel, width, height) this will provide crop percentages\n",
    "    to get to a 1:1 aspect ratio.\n",
    "    \n",
    "    Parameters\n",
    "    -------------\n",
    "        img_tensor (tuple): (channel, width, height) of an image\n",
    "        \n",
    "    Returns\n",
    "    -------------\n",
    "        cropPct (tuple): (x_percent, y_percent) crop of image to get to 1:1 aspect\n",
    "                            ratio\n",
    "    \"\"\"\n",
    "    \n",
    "    # retrieving relevant info from img_tensor\n",
    "    x = img_tensor[1]\n",
    "    y = img_tensor[2]\n",
    "    \n",
    "    # calculate crop to 1:1 ratio based on smallest dimension\n",
    "    if x >= y:\n",
    "        x_percent = y/x\n",
    "        y_percent = 1\n",
    "    else:\n",
    "        y_percent = x/y\n",
    "        x_percent = 1\n",
    "        \n",
    "    cropPct = (x_percent, y_percent)\n",
    "    \n",
    "    return cropPct\n",
    "        "
   ]
  },
  {
   "cell_type": "markdown",
   "metadata": {},
   "source": [
    "### testing function"
   ]
  },
  {
   "cell_type": "code",
   "execution_count": 11,
   "metadata": {},
   "outputs": [
    {
     "data": {
      "text/plain": [
       "(1, 0.7692307692307693)"
      ]
     },
     "execution_count": 11,
     "metadata": {},
     "output_type": "execute_result"
    }
   ],
   "source": [
    "img_tensor = (1, 600, 780)\n",
    "crop1to1(img_tensor)"
   ]
  },
  {
   "cell_type": "markdown",
   "metadata": {},
   "source": [
    "## Basic Stats"
   ]
  },
  {
   "cell_type": "code",
   "execution_count": 7,
   "metadata": {},
   "outputs": [],
   "source": [
    "import pandas as pd\n",
    "index_df = pd.read_csv('../../data/image_index_dtl.csv')"
   ]
  },
  {
   "cell_type": "code",
   "execution_count": 9,
   "metadata": {},
   "outputs": [
    {
     "data": {
      "text/html": [
       "<div>\n",
       "<style scoped>\n",
       "    .dataframe tbody tr th:only-of-type {\n",
       "        vertical-align: middle;\n",
       "    }\n",
       "\n",
       "    .dataframe tbody tr th {\n",
       "        vertical-align: top;\n",
       "    }\n",
       "\n",
       "    .dataframe thead th {\n",
       "        text-align: right;\n",
       "    }\n",
       "</style>\n",
       "<table border=\"1\" class=\"dataframe\">\n",
       "  <thead>\n",
       "    <tr style=\"text-align: right;\">\n",
       "      <th></th>\n",
       "      <th>img</th>\n",
       "      <th>data_set</th>\n",
       "      <th>condition</th>\n",
       "      <th>image_tensor</th>\n",
       "      <th>channels</th>\n",
       "      <th>height</th>\n",
       "      <th>width</th>\n",
       "      <th>data_set_name</th>\n",
       "    </tr>\n",
       "  </thead>\n",
       "  <tbody>\n",
       "    <tr>\n",
       "      <th>0</th>\n",
       "      <td>..\\..\\data\\extracted\\chest_xray\\test\\NORMAL\\IM...</td>\n",
       "      <td>0</td>\n",
       "      <td>0</td>\n",
       "      <td>[1, 1317, 1857]</td>\n",
       "      <td>1</td>\n",
       "      <td>1317</td>\n",
       "      <td>1857</td>\n",
       "      <td>test</td>\n",
       "    </tr>\n",
       "    <tr>\n",
       "      <th>1</th>\n",
       "      <td>..\\..\\data\\extracted\\chest_xray\\test\\NORMAL\\IM...</td>\n",
       "      <td>0</td>\n",
       "      <td>0</td>\n",
       "      <td>[1, 1509, 2111]</td>\n",
       "      <td>1</td>\n",
       "      <td>1509</td>\n",
       "      <td>2111</td>\n",
       "      <td>test</td>\n",
       "    </tr>\n",
       "    <tr>\n",
       "      <th>2</th>\n",
       "      <td>..\\..\\data\\extracted\\chest_xray\\test\\NORMAL\\IM...</td>\n",
       "      <td>0</td>\n",
       "      <td>0</td>\n",
       "      <td>[1, 1837, 2031]</td>\n",
       "      <td>1</td>\n",
       "      <td>1837</td>\n",
       "      <td>2031</td>\n",
       "      <td>test</td>\n",
       "    </tr>\n",
       "    <tr>\n",
       "      <th>3</th>\n",
       "      <td>..\\..\\data\\extracted\\chest_xray\\test\\NORMAL\\IM...</td>\n",
       "      <td>0</td>\n",
       "      <td>0</td>\n",
       "      <td>[1, 1326, 1663]</td>\n",
       "      <td>1</td>\n",
       "      <td>1326</td>\n",
       "      <td>1663</td>\n",
       "      <td>test</td>\n",
       "    </tr>\n",
       "    <tr>\n",
       "      <th>4</th>\n",
       "      <td>..\\..\\data\\extracted\\chest_xray\\test\\NORMAL\\IM...</td>\n",
       "      <td>0</td>\n",
       "      <td>0</td>\n",
       "      <td>[1, 1818, 2053]</td>\n",
       "      <td>1</td>\n",
       "      <td>1818</td>\n",
       "      <td>2053</td>\n",
       "      <td>test</td>\n",
       "    </tr>\n",
       "    <tr>\n",
       "      <th>...</th>\n",
       "      <td>...</td>\n",
       "      <td>...</td>\n",
       "      <td>...</td>\n",
       "      <td>...</td>\n",
       "      <td>...</td>\n",
       "      <td>...</td>\n",
       "      <td>...</td>\n",
       "      <td>...</td>\n",
       "    </tr>\n",
       "    <tr>\n",
       "      <th>5851</th>\n",
       "      <td>..\\..\\data\\extracted\\chest_xray\\val\\PNEUMONIA\\...</td>\n",
       "      <td>2</td>\n",
       "      <td>1</td>\n",
       "      <td>[1, 944, 1416]</td>\n",
       "      <td>1</td>\n",
       "      <td>944</td>\n",
       "      <td>1416</td>\n",
       "      <td>validation</td>\n",
       "    </tr>\n",
       "    <tr>\n",
       "      <th>5852</th>\n",
       "      <td>..\\..\\data\\extracted\\chest_xray\\val\\PNEUMONIA\\...</td>\n",
       "      <td>2</td>\n",
       "      <td>1</td>\n",
       "      <td>[1, 864, 1256]</td>\n",
       "      <td>1</td>\n",
       "      <td>864</td>\n",
       "      <td>1256</td>\n",
       "      <td>validation</td>\n",
       "    </tr>\n",
       "    <tr>\n",
       "      <th>5853</th>\n",
       "      <td>..\\..\\data\\extracted\\chest_xray\\val\\PNEUMONIA\\...</td>\n",
       "      <td>2</td>\n",
       "      <td>1</td>\n",
       "      <td>[1, 656, 1016]</td>\n",
       "      <td>1</td>\n",
       "      <td>656</td>\n",
       "      <td>1016</td>\n",
       "      <td>validation</td>\n",
       "    </tr>\n",
       "    <tr>\n",
       "      <th>5854</th>\n",
       "      <td>..\\..\\data\\extracted\\chest_xray\\val\\PNEUMONIA\\...</td>\n",
       "      <td>2</td>\n",
       "      <td>1</td>\n",
       "      <td>[1, 952, 1192]</td>\n",
       "      <td>1</td>\n",
       "      <td>952</td>\n",
       "      <td>1192</td>\n",
       "      <td>validation</td>\n",
       "    </tr>\n",
       "    <tr>\n",
       "      <th>5855</th>\n",
       "      <td>..\\..\\data\\extracted\\chest_xray\\val\\PNEUMONIA\\...</td>\n",
       "      <td>2</td>\n",
       "      <td>1</td>\n",
       "      <td>[1, 1128, 1664]</td>\n",
       "      <td>1</td>\n",
       "      <td>1128</td>\n",
       "      <td>1664</td>\n",
       "      <td>validation</td>\n",
       "    </tr>\n",
       "  </tbody>\n",
       "</table>\n",
       "<p>5856 rows × 8 columns</p>\n",
       "</div>"
      ],
      "text/plain": [
       "                                                    img  data_set  condition  \\\n",
       "0     ..\\..\\data\\extracted\\chest_xray\\test\\NORMAL\\IM...         0          0   \n",
       "1     ..\\..\\data\\extracted\\chest_xray\\test\\NORMAL\\IM...         0          0   \n",
       "2     ..\\..\\data\\extracted\\chest_xray\\test\\NORMAL\\IM...         0          0   \n",
       "3     ..\\..\\data\\extracted\\chest_xray\\test\\NORMAL\\IM...         0          0   \n",
       "4     ..\\..\\data\\extracted\\chest_xray\\test\\NORMAL\\IM...         0          0   \n",
       "...                                                 ...       ...        ...   \n",
       "5851  ..\\..\\data\\extracted\\chest_xray\\val\\PNEUMONIA\\...         2          1   \n",
       "5852  ..\\..\\data\\extracted\\chest_xray\\val\\PNEUMONIA\\...         2          1   \n",
       "5853  ..\\..\\data\\extracted\\chest_xray\\val\\PNEUMONIA\\...         2          1   \n",
       "5854  ..\\..\\data\\extracted\\chest_xray\\val\\PNEUMONIA\\...         2          1   \n",
       "5855  ..\\..\\data\\extracted\\chest_xray\\val\\PNEUMONIA\\...         2          1   \n",
       "\n",
       "         image_tensor  channels  height  width data_set_name  \n",
       "0     [1, 1317, 1857]         1    1317   1857          test  \n",
       "1     [1, 1509, 2111]         1    1509   2111          test  \n",
       "2     [1, 1837, 2031]         1    1837   2031          test  \n",
       "3     [1, 1326, 1663]         1    1326   1663          test  \n",
       "4     [1, 1818, 2053]         1    1818   2053          test  \n",
       "...               ...       ...     ...    ...           ...  \n",
       "5851   [1, 944, 1416]         1     944   1416    validation  \n",
       "5852   [1, 864, 1256]         1     864   1256    validation  \n",
       "5853   [1, 656, 1016]         1     656   1016    validation  \n",
       "5854   [1, 952, 1192]         1     952   1192    validation  \n",
       "5855  [1, 1128, 1664]         1    1128   1664    validation  \n",
       "\n",
       "[5856 rows x 8 columns]"
      ]
     },
     "execution_count": 9,
     "metadata": {},
     "output_type": "execute_result"
    }
   ],
   "source": [
    "index_df"
   ]
  },
  {
   "cell_type": "code",
   "execution_count": 11,
   "metadata": {},
   "outputs": [
    {
     "data": {
      "text/plain": [
       "1    4273\n",
       "0    1583\n",
       "Name: condition, dtype: int64"
      ]
     },
     "execution_count": 11,
     "metadata": {},
     "output_type": "execute_result"
    }
   ],
   "source": [
    "index_df.condition.value_counts()"
   ]
  },
  {
   "cell_type": "code",
   "execution_count": 12,
   "metadata": {},
   "outputs": [
    {
     "data": {
      "text/plain": [
       "train         5216\n",
       "test           624\n",
       "validation      16\n",
       "Name: data_set_name, dtype: int64"
      ]
     },
     "execution_count": 12,
     "metadata": {},
     "output_type": "execute_result"
    }
   ],
   "source": [
    "index_df.data_set_name.value_counts()"
   ]
  },
  {
   "cell_type": "code",
   "execution_count": 13,
   "metadata": {},
   "outputs": [
    {
     "data": {
      "text/html": [
       "<div>\n",
       "<style scoped>\n",
       "    .dataframe tbody tr th:only-of-type {\n",
       "        vertical-align: middle;\n",
       "    }\n",
       "\n",
       "    .dataframe tbody tr th {\n",
       "        vertical-align: top;\n",
       "    }\n",
       "\n",
       "    .dataframe thead th {\n",
       "        text-align: right;\n",
       "    }\n",
       "</style>\n",
       "<table border=\"1\" class=\"dataframe\">\n",
       "  <thead>\n",
       "    <tr style=\"text-align: right;\">\n",
       "      <th></th>\n",
       "      <th>data_set</th>\n",
       "      <th>condition</th>\n",
       "      <th>channels</th>\n",
       "      <th>height</th>\n",
       "      <th>width</th>\n",
       "    </tr>\n",
       "  </thead>\n",
       "  <tbody>\n",
       "    <tr>\n",
       "      <th>count</th>\n",
       "      <td>5856.000000</td>\n",
       "      <td>5856.000000</td>\n",
       "      <td>5856.000000</td>\n",
       "      <td>5856.000000</td>\n",
       "      <td>5856.000000</td>\n",
       "    </tr>\n",
       "    <tr>\n",
       "      <th>mean</th>\n",
       "      <td>0.896175</td>\n",
       "      <td>0.729679</td>\n",
       "      <td>1.096653</td>\n",
       "      <td>970.689037</td>\n",
       "      <td>1327.880806</td>\n",
       "    </tr>\n",
       "    <tr>\n",
       "      <th>std</th>\n",
       "      <td>0.313890</td>\n",
       "      <td>0.444164</td>\n",
       "      <td>0.428947</td>\n",
       "      <td>383.392117</td>\n",
       "      <td>363.500922</td>\n",
       "    </tr>\n",
       "    <tr>\n",
       "      <th>min</th>\n",
       "      <td>0.000000</td>\n",
       "      <td>0.000000</td>\n",
       "      <td>1.000000</td>\n",
       "      <td>127.000000</td>\n",
       "      <td>384.000000</td>\n",
       "    </tr>\n",
       "    <tr>\n",
       "      <th>25%</th>\n",
       "      <td>1.000000</td>\n",
       "      <td>0.000000</td>\n",
       "      <td>1.000000</td>\n",
       "      <td>688.000000</td>\n",
       "      <td>1056.000000</td>\n",
       "    </tr>\n",
       "    <tr>\n",
       "      <th>50%</th>\n",
       "      <td>1.000000</td>\n",
       "      <td>1.000000</td>\n",
       "      <td>1.000000</td>\n",
       "      <td>888.000000</td>\n",
       "      <td>1281.000000</td>\n",
       "    </tr>\n",
       "    <tr>\n",
       "      <th>75%</th>\n",
       "      <td>1.000000</td>\n",
       "      <td>1.000000</td>\n",
       "      <td>1.000000</td>\n",
       "      <td>1187.000000</td>\n",
       "      <td>1560.000000</td>\n",
       "    </tr>\n",
       "    <tr>\n",
       "      <th>max</th>\n",
       "      <td>2.000000</td>\n",
       "      <td>1.000000</td>\n",
       "      <td>3.000000</td>\n",
       "      <td>2713.000000</td>\n",
       "      <td>2916.000000</td>\n",
       "    </tr>\n",
       "  </tbody>\n",
       "</table>\n",
       "</div>"
      ],
      "text/plain": [
       "          data_set    condition     channels       height        width\n",
       "count  5856.000000  5856.000000  5856.000000  5856.000000  5856.000000\n",
       "mean      0.896175     0.729679     1.096653   970.689037  1327.880806\n",
       "std       0.313890     0.444164     0.428947   383.392117   363.500922\n",
       "min       0.000000     0.000000     1.000000   127.000000   384.000000\n",
       "25%       1.000000     0.000000     1.000000   688.000000  1056.000000\n",
       "50%       1.000000     1.000000     1.000000   888.000000  1281.000000\n",
       "75%       1.000000     1.000000     1.000000  1187.000000  1560.000000\n",
       "max       2.000000     1.000000     3.000000  2713.000000  2916.000000"
      ]
     },
     "execution_count": 13,
     "metadata": {},
     "output_type": "execute_result"
    }
   ],
   "source": [
    "index_df.describe()"
   ]
  },
  {
   "cell_type": "code",
   "execution_count": null,
   "metadata": {},
   "outputs": [],
   "source": []
  }
 ],
 "metadata": {
  "kernelspec": {
   "display_name": "learn-env",
   "language": "python",
   "name": "learn-env"
  },
  "language_info": {
   "codemirror_mode": {
    "name": "ipython",
    "version": 3
   },
   "file_extension": ".py",
   "mimetype": "text/x-python",
   "name": "python",
   "nbconvert_exporter": "python",
   "pygments_lexer": "ipython3",
   "version": "3.6.10"
  }
 },
 "nbformat": 4,
 "nbformat_minor": 4
}
