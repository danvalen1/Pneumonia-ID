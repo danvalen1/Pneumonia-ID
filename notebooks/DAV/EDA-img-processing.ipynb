{
 "cells": [
  {
   "cell_type": "markdown",
   "metadata": {},
   "source": [
    "# Image Processing EDA"
   ]
  },
  {
   "cell_type": "markdown",
   "metadata": {},
   "source": [
    "## Creating function to get correct crop percentages"
   ]
  },
  {
   "cell_type": "code",
   "execution_count": 8,
   "metadata": {},
   "outputs": [],
   "source": [
    "def crop1to1(img_tensor):\n",
    "    \"\"\"\n",
    "    Given an image tensor  of (channel, width, height) this will provide crop percentages\n",
    "    to get to a 1:1 aspect ratio.\n",
    "    \n",
    "    Parameters\n",
    "    -------------\n",
    "        img_tensor (tuple): (channel, width, height) of an image\n",
    "        \n",
    "    Returns\n",
    "    -------------\n",
    "        cropPct (tuple): (x_percent, y_percent) crop of image to get to 1:1 aspect\n",
    "                            ratio\n",
    "    \"\"\"\n",
    "    \n",
    "    # retrieving relevant info from img_tensor\n",
    "    x = img_tensor[1]\n",
    "    y = img_tensor[2]\n",
    "    \n",
    "    # calculate crop to 1:1 ratio based on smallest dimension\n",
    "    if x >= y:\n",
    "        x_percent = y/x\n",
    "        y_percent = 1\n",
    "    else:\n",
    "        y_percent = x/y\n",
    "        x_percent = 1\n",
    "        \n",
    "    cropPct = (x_percent, y_percent)\n",
    "    \n",
    "    return cropPct\n",
    "        "
   ]
  },
  {
   "cell_type": "markdown",
   "metadata": {},
   "source": [
    "### testing function"
   ]
  },
  {
   "cell_type": "code",
   "execution_count": 11,
   "metadata": {},
   "outputs": [
    {
     "data": {
      "text/plain": [
       "(1, 0.7692307692307693)"
      ]
     },
     "execution_count": 11,
     "metadata": {},
     "output_type": "execute_result"
    }
   ],
   "source": [
    "img_tensor = (1, 600, 780)\n",
    "crop1to1(img_tensor)"
   ]
  },
  {
   "cell_type": "code",
   "execution_count": null,
   "metadata": {},
   "outputs": [],
   "source": []
  }
 ],
 "metadata": {
  "kernelspec": {
   "display_name": "learn-env",
   "language": "python",
   "name": "learn-env"
  },
  "language_info": {
   "codemirror_mode": {
    "name": "ipython",
    "version": 3
   },
   "file_extension": ".py",
   "mimetype": "text/x-python",
   "name": "python",
   "nbconvert_exporter": "python",
   "pygments_lexer": "ipython3",
   "version": "3.6.10"
  }
 },
 "nbformat": 4,
 "nbformat_minor": 4
}
