{
 "cells": [
  {
   "cell_type": "markdown",
   "metadata": {},
   "source": [
    "## Overview\n",
    "\n",
    "This notebook will validate the model performance by predicting the outcome on holdout set with 3 different sequentail linear model built previous notebooks. The best performing model will be chosen for final implementation"
   ]
  },
  {
   "cell_type": "markdown",
   "metadata": {},
   "source": [
    "## Libraries Import"
   ]
  },
  {
   "cell_type": "code",
   "execution_count": 184,
   "metadata": {},
   "outputs": [],
   "source": [
    "import os\n",
    "import sys\n",
    "import pandas as pd\n",
    "import torch\n",
    "import torch.nn as nn #neural network\n",
    "import torchvision as tv\n",
    "import torchvision.transforms as TF\n",
    "import torch.optim as optim # optimizer\n",
    "import numpy as np\n",
    "\n",
    "import matplotlib.pyplot as plt\n",
    "import seaborn as sns\n",
    "\n",
    "module_path = os.path.abspath(os.path.join(os.pardir, 'src'))\n",
    "if module_path not in sys.path:\n",
    "    sys.path.append(module_path)\n",
    "\n",
    "from modules import sequential_linear as sl1_model #model code\n",
    "from modules import sequential_linear2 as sl2_model #model code\n",
    "\n",
    "import matplotlib.pyplot as plt\n",
    "from sklearn.metrics import f1_score, recall_score, confusion_matrix, plot_confusion_matrix\n",
    "\n",
    "%matplotlib inline"
   ]
  },
  {
   "cell_type": "markdown",
   "metadata": {},
   "source": [
    "# Data Import and Processing"
   ]
  },
  {
   "cell_type": "code",
   "execution_count": 185,
   "metadata": {},
   "outputs": [],
   "source": [
    "# set image reduction size\n",
    "img_reduce_h=120\n",
    "img_reduce_w=120"
   ]
  },
  {
   "cell_type": "code",
   "execution_count": 186,
   "metadata": {
    "scrolled": true
   },
   "outputs": [
    {
     "data": {
      "text/html": [
       "<div>\n",
       "<style scoped>\n",
       "    .dataframe tbody tr th:only-of-type {\n",
       "        vertical-align: middle;\n",
       "    }\n",
       "\n",
       "    .dataframe tbody tr th {\n",
       "        vertical-align: top;\n",
       "    }\n",
       "\n",
       "    .dataframe thead th {\n",
       "        text-align: right;\n",
       "    }\n",
       "</style>\n",
       "<table border=\"1\" class=\"dataframe\">\n",
       "  <thead>\n",
       "    <tr style=\"text-align: right;\">\n",
       "      <th></th>\n",
       "      <th>img</th>\n",
       "      <th>data_set</th>\n",
       "      <th>condition</th>\n",
       "    </tr>\n",
       "  </thead>\n",
       "  <tbody>\n",
       "    <tr>\n",
       "      <th>0</th>\n",
       "      <td>..\\..\\data\\extracted\\chest_xray\\test\\NORMAL\\IM...</td>\n",
       "      <td>0</td>\n",
       "      <td>0</td>\n",
       "    </tr>\n",
       "    <tr>\n",
       "      <th>1</th>\n",
       "      <td>..\\..\\data\\extracted\\chest_xray\\test\\NORMAL\\IM...</td>\n",
       "      <td>0</td>\n",
       "      <td>0</td>\n",
       "    </tr>\n",
       "    <tr>\n",
       "      <th>2</th>\n",
       "      <td>..\\..\\data\\extracted\\chest_xray\\test\\NORMAL\\IM...</td>\n",
       "      <td>0</td>\n",
       "      <td>0</td>\n",
       "    </tr>\n",
       "    <tr>\n",
       "      <th>3</th>\n",
       "      <td>..\\..\\data\\extracted\\chest_xray\\test\\NORMAL\\IM...</td>\n",
       "      <td>0</td>\n",
       "      <td>0</td>\n",
       "    </tr>\n",
       "    <tr>\n",
       "      <th>4</th>\n",
       "      <td>..\\..\\data\\extracted\\chest_xray\\test\\NORMAL\\IM...</td>\n",
       "      <td>0</td>\n",
       "      <td>0</td>\n",
       "    </tr>\n",
       "  </tbody>\n",
       "</table>\n",
       "</div>"
      ],
      "text/plain": [
       "                                                 img  data_set  condition\n",
       "0  ..\\..\\data\\extracted\\chest_xray\\test\\NORMAL\\IM...         0          0\n",
       "1  ..\\..\\data\\extracted\\chest_xray\\test\\NORMAL\\IM...         0          0\n",
       "2  ..\\..\\data\\extracted\\chest_xray\\test\\NORMAL\\IM...         0          0\n",
       "3  ..\\..\\data\\extracted\\chest_xray\\test\\NORMAL\\IM...         0          0\n",
       "4  ..\\..\\data\\extracted\\chest_xray\\test\\NORMAL\\IM...         0          0"
      ]
     },
     "execution_count": 186,
     "metadata": {},
     "output_type": "execute_result"
    }
   ],
   "source": [
    "index_df = pd.read_csv(\"../data/image_index.csv\", index_col=0)\n",
    "index_df.head()"
   ]
  },
  {
   "cell_type": "code",
   "execution_count": 187,
   "metadata": {},
   "outputs": [],
   "source": [
    "# update path to right directory\n",
    "index_df[\"newpath\"] = index_df.img.apply(lambda x: x[3:])"
   ]
  },
  {
   "cell_type": "code",
   "execution_count": 188,
   "metadata": {},
   "outputs": [],
   "source": [
    "val_df = index_df[index_df.data_set==0]\n",
    "y_true = val_df[\"condition\"].values\n",
    "img_paths = val_df.newpath.values"
   ]
  },
  {
   "cell_type": "code",
   "execution_count": 189,
   "metadata": {},
   "outputs": [],
   "source": [
    "input_tensor = sl_model.preprocess_image_flat(img_paths, img_reduce_h, img_reduce_w)"
   ]
  },
  {
   "cell_type": "markdown",
   "metadata": {},
   "source": [
    "## Import Models\n",
    "\n",
    "In this notebook 3 models will be evaluated. The models are following:\n",
    "\n",
    "**1. Simple Linear**\n",
    "- Simple 2 linear layer model with small weighted decay during optimization\n",
    "\n",
    "**2. Simple Linear with Hard Decay**\n",
    "- Simple 2 linear layer model with large weighted decay during optimization\n",
    "\n",
    "**3. Simple Linear with Relu Activation**\n",
    "- Simple 2 linear layer model with additional ReLU activation layer\n",
    "\n",
    "Since the model outputs a soft guess (probabilistic prediction between 0-1) a threshold must be set to hard classify the prediction to a binary answer (1 OR 0)"
   ]
  },
  {
   "cell_type": "code",
   "execution_count": 268,
   "metadata": {},
   "outputs": [],
   "source": [
    "threshold = 0.9\n",
    "if threshold >= 1 or threshold <=0:\n",
    "    print(\"ERROR please set threshold to between 0-1, excluding 0 or 1\")"
   ]
  },
  {
   "cell_type": "markdown",
   "metadata": {},
   "source": [
    "### 1. Simple Linear Model"
   ]
  },
  {
   "cell_type": "code",
   "execution_count": 269,
   "metadata": {
    "scrolled": true
   },
   "outputs": [
    {
     "data": {
      "text/plain": [
       "linear_prototype(\n",
       "  (linear1): Linear(in_features=14400, out_features=320, bias=True)\n",
       "  (relu1): ReLU()\n",
       "  (linear2): Linear(in_features=320, out_features=1, bias=True)\n",
       "  (termn_act): Sigmoid()\n",
       ")"
      ]
     },
     "execution_count": 269,
     "metadata": {},
     "output_type": "execute_result"
    }
   ],
   "source": [
    "simple_linear = sl1_model.linear_prototype(img_reduce_h, img_reduce_w)\n",
    "simple_linear.load_state_dict(torch.load(\"../models/pneumonia_simple_decay_01.pt\"))\n",
    "simple_linear.eval()"
   ]
  },
  {
   "cell_type": "code",
   "execution_count": 270,
   "metadata": {
    "scrolled": true
   },
   "outputs": [],
   "source": [
    "y_pred_simple = simple_linear(input_tensor)\n",
    "y_pred_simple.flatten().detach().numpy()\n",
    "y_pred_simple = np.array([1 if ans >= threshold else 0 for ans in y_pred_simple])"
   ]
  },
  {
   "cell_type": "markdown",
   "metadata": {},
   "source": [
    "#### Simple Linear Model Metrics"
   ]
  },
  {
   "cell_type": "code",
   "execution_count": 271,
   "metadata": {
    "scrolled": true
   },
   "outputs": [
    {
     "name": "stdout",
     "output_type": "stream",
     "text": [
      "Simple Model F1: 0.8733087330873308\n",
      "Simple Model Recall: 0.9102564102564102\n"
     ]
    }
   ],
   "source": [
    "f1 = f1_score(y_true, y_pred_simple)\n",
    "recall = recall_score(y_true, y_pred_simple)\n",
    "\n",
    "print(\"Simple Model F1:\", f1)\n",
    "print(\"Simple Model Recall:\", recall)"
   ]
  },
  {
   "cell_type": "code",
   "execution_count": 272,
   "metadata": {
    "scrolled": true
   },
   "outputs": [
    {
     "data": {
      "image/png": "[encoded data removed]",
      "text/plain": [
       "<Figure size 432x288 with 1 Axes>"
      ]
     },
     "metadata": {
      "needs_background": "light"
     },
     "output_type": "display_data"
    }
   ],
   "source": [
    "simple_cf = confusion_matrix(y_true, y_pred_simple)\n",
    "sns.heatmap(simple_cf, annot=True, cbar=False)\n",
    "plt.ylabel(\"True Values\", size=14)\n",
    "plt.yticks([0.5, 1.5], [\"Positive\", \"Negative\"], rotation=45)\n",
    "plt.xlabel(\"Prediction\", size=14)\n",
    "plt.xticks([0.5, 1.5], [\"Positive\", \"Negative\"], rotation=45)\n",
    "plt.title(\"Simple Linear Model Confusion Matrix\", size=16)\n",
    "plt.show()"
   ]
  },
  {
   "cell_type": "markdown",
   "metadata": {},
   "source": [
    "### 2. Simple Linear Model with Large Decay"
   ]
  },
  {
   "cell_type": "code",
   "execution_count": 273,
   "metadata": {
    "scrolled": true
   },
   "outputs": [
    {
     "data": {
      "text/plain": [
       "linear_prototype(\n",
       "  (linear1): Linear(in_features=14400, out_features=320, bias=True)\n",
       "  (relu1): ReLU()\n",
       "  (linear2): Linear(in_features=320, out_features=1, bias=True)\n",
       "  (termn_act): Sigmoid()\n",
       ")"
      ]
     },
     "execution_count": 273,
     "metadata": {},
     "output_type": "execute_result"
    }
   ],
   "source": [
    "simple_linear_hard_decay = sl1_model.linear_prototype(img_reduce_h, img_reduce_w)\n",
    "simple_linear_hard_decay.load_state_dict(torch.load(\"../models/pneumonia_simple_decay_02.pt\"))\n",
    "simple_linear_hard_decay.eval()"
   ]
  },
  {
   "cell_type": "code",
   "execution_count": 274,
   "metadata": {},
   "outputs": [],
   "source": [
    "y_pred_sh = simple_linear_hard_decay(input_tensor)\n",
    "y_pred_sh.flatten().detach().numpy()\n",
    "y_pred_sh = np.array([1 if ans >= threshold else 0 for ans in y_pred_sh])"
   ]
  },
  {
   "cell_type": "code",
   "execution_count": 275,
   "metadata": {},
   "outputs": [
    {
     "name": "stdout",
     "output_type": "stream",
     "text": [
      "Simple Model with Large Decay F1: 0.8733087330873308\n",
      "Simple Model with Large Decay Recall: 0.9102564102564102\n"
     ]
    }
   ],
   "source": [
    "f1 = f1_score(y_true, y_pred_sh)\n",
    "recall = recall_score(y_true, y_pred_sh)\n",
    "\n",
    "print(\"Simple Model with Large Decay F1:\", f1)\n",
    "print(\"Simple Model with Large Decay Recall:\", recall)"
   ]
  },
  {
   "cell_type": "code",
   "execution_count": 288,
   "metadata": {},
   "outputs": [
    {
     "data": {
      "image/png": "[encoded data removed]",
      "text/plain": [
       "<Figure size 432x288 with 1 Axes>"
      ]
     },
     "metadata": {
      "needs_background": "light"
     },
     "output_type": "display_data"
    }
   ],
   "source": [
    "simple_large_cf = confusion_matrix(y_true, y_pred_sh)\n",
    "sns.heatmap(simple_large_cf, annot=True, cbar=False, cmap=\"flare\")\n",
    "plt.ylabel(\"True Values\", size=14)\n",
    "plt.yticks([0.5, 1.5], [\"Positive\", \"Negative\"], rotation=45)\n",
    "plt.xlabel(\"Prediction\", size=14)\n",
    "plt.xticks([0.5, 1.5], [\"Positive\", \"Negative\"], rotation=45)\n",
    "plt.title(\"Linear Model with Decay Confusion Matrix (Test)\", size=16)\n",
    "plt.show()"
   ]
  },
  {
   "cell_type": "markdown",
   "metadata": {},
   "source": [
    "### 3. Linear Model with ReLU Activation"
   ]
  },
  {
   "cell_type": "code",
   "execution_count": 277,
   "metadata": {},
   "outputs": [
    {
     "data": {
      "text/plain": [
       "linear_prototype(\n",
       "  (linear1): Linear(in_features=14400, out_features=320, bias=True)\n",
       "  (relu1): ReLU()\n",
       "  (linear2): Linear(in_features=320, out_features=1, bias=True)\n",
       "  (term_act): Sigmoid()\n",
       "  (relu2): ReLU()\n",
       ")"
      ]
     },
     "execution_count": 277,
     "metadata": {},
     "output_type": "execute_result"
    }
   ],
   "source": [
    "simple_linear_relu = sl2_model.linear_prototype(img_reduce_h, img_reduce_w)\n",
    "simple_linear_relu.load_state_dict(torch.load(\"../models/pneumonia_simple_decay_03.pt\"))\n",
    "simple_linear_relu.eval()"
   ]
  },
  {
   "cell_type": "code",
   "execution_count": 278,
   "metadata": {},
   "outputs": [],
   "source": [
    "y_pred_rl = simple_linear_relu(input_tensor)\n",
    "y_pred_rl.flatten().detach().numpy()\n",
    "y_pred_rl = np.array([1 if ans >= threshold else 0 for ans in y_pred_rl])"
   ]
  },
  {
   "cell_type": "code",
   "execution_count": 279,
   "metadata": {},
   "outputs": [
    {
     "name": "stdout",
     "output_type": "stream",
     "text": [
      "Linear Model with ReLU F1: 0.8712871287128714\n",
      "Linear Model with ReLU Recall: 0.9025641025641026\n"
     ]
    }
   ],
   "source": [
    "f1 = f1_score(y_true, y_pred_rl)\n",
    "recall = recall_score(y_true, y_pred_rl)\n",
    "\n",
    "print(\"Linear Model with ReLU F1:\", f1)\n",
    "print(\"Linear Model with ReLU Recall:\", recall)"
   ]
  },
  {
   "cell_type": "code",
   "execution_count": 280,
   "metadata": {},
   "outputs": [
    {
     "data": {
      "image/png": "[encoded data removed]",
      "text/plain": [
       "<Figure size 432x288 with 1 Axes>"
      ]
     },
     "metadata": {
      "needs_background": "light"
     },
     "output_type": "display_data"
    }
   ],
   "source": [
    "relu_cf = confusion_matrix(y_true, y_pred_rl)\n",
    "sns.heatmap(relu_cf, annot=True, cbar=False)\n",
    "plt.ylabel(\"True Values\", size=14)\n",
    "plt.yticks([0.5, 1.5], [\"Positive\", \"Negative\"], rotation=45)\n",
    "plt.xlabel(\"Prediction\", size=14)\n",
    "plt.xticks([0.5, 1.5], [\"Positive\", \"Negative\"], rotation=45)\n",
    "plt.title(\"Linear Model with Relu Confusion Matrix\", size=16)\n",
    "plt.show()"
   ]
  },
  {
   "cell_type": "code",
   "execution_count": null,
   "metadata": {},
   "outputs": [],
   "source": []
  },
  {
   "cell_type": "code",
   "execution_count": null,
   "metadata": {},
   "outputs": [],
   "source": []
  }
 ],
 "metadata": {
  "kernelspec": {
   "display_name": "fitsnbits",
   "language": "python",
   "name": "fitsnbits"
  },
  "language_info": {
   "codemirror_mode": {
    "name": "ipython",
    "version": 3
   },
   "file_extension": ".py",
   "mimetype": "text/x-python",
   "name": "python",
   "nbconvert_exporter": "python",
   "pygments_lexer": "ipython3",
   "version": "3.7.9"
  }
 },
 "nbformat": 4,
 "nbformat_minor": 4
}
