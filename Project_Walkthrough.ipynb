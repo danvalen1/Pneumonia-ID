{
 "cells": [
  {
   "cell_type": "markdown",
   "metadata": {},
   "source": [
    "# **Identifying Pneumonia Using Deep Learning**\n",
    "## Yung Han Jeong, Dan Valenzuela\n",
    "\n",
    "***\n",
    "\n"
   ]
  },
  {
   "cell_type": "code",
   "execution_count": 2,
   "metadata": {},
   "outputs": [],
   "source": [
    "import pandas as pd"
   ]
  },
  {
   "cell_type": "markdown",
   "metadata": {},
   "source": [
    "## **Overview** <a id=\"Overview\"></a>"
   ]
  },
  {
   "cell_type": "markdown",
   "metadata": {},
   "source": [
    "This project aims to develop a deep learning model to accurately identify cases of pneumonia using x-ray images of patients' lungs. Doctors both overdiagnose and underdiagnose pneumonia, both of which can have fatal consequences"
   ]
  },
  {
   "cell_type": "markdown",
   "metadata": {},
   "source": [
    "\n",
    "[**1. Business Problem**](#Business-Problem)\n",
    "\n",
    "[**2. Data Understanding**](#Data-Understanding)\n",
    "\n",
    "[**3. Data Preparation**](#Data-Preparation)\n",
    "\n",
    "[**4. Data Analysis**](#Data-Analysis)\n",
    "\n",
    "[**5. Evaluation**](#Evaluation)\n",
    "\n",
    "[**6. Conclusion and Next Steps**](#Conclusion)\n",
    "\n",
    "[**7. Endnotes**](#Endnotes)\n",
    "***"
   ]
  },
  {
   "cell_type": "markdown",
   "metadata": {},
   "source": [
    "## **Business Problem** <a id=\"Business-Problem\"></a>\n",
    "[*↑ Back to overview*](#Overview)"
   ]
  },
  {
   "cell_type": "markdown",
   "metadata": {},
   "source": [
    "Doctors both overdiagnose and underdiagnose pneumonia, both of which have can have fatal consequences. <a id=\"FN-1-SRC\"></a>[<sup>1</sup>](#FN-1) A failure to diagnose pneumonia (and generally underdiagnosing in a population) can lead to potentially fatal complications as the illness develops. And diagnosing pneumonia when it doesn't exist (and generally overdiagnosing in a population) can increase the prescription of antibiotics, which can lead to the development of antibiotic-resistant pathogens. <a id=\"FN-2-SRC\"></a> [<sup>2</sup>](#FN-2)\n",
    "\n",
    "Part of this problem can be due to the fact that examination of chest x-rays by doctors are limited by the structures and bias of human perception. Other researchers have found that deep-learning models have helped doctors interpret chest x-rays for signs of pneumonia. <a id=\"FN-3-SRC\"></a> [<sup>3</sup>](#FN-3)\n",
    "\n",
    "This project aims to contribute to current efforts in developing machine learning-assisted pneumonia diagnoses by creating a deep-learning model that classifies chest x-ray images as having pneumonia or not having pneumonia. To that end, first we give an overview of the images used to train the deep-learning model."
   ]
  },
  {
   "cell_type": "markdown",
   "metadata": {},
   "source": [
    "[*↑ Back to overview*](#Overview)\n",
    "***"
   ]
  },
  {
   "cell_type": "markdown",
   "metadata": {},
   "source": [
    "## **Data Understanding** <a id=\"Data-Understanding\"></a>\n",
    "[*↑ Back to overview*](#Overview)"
   ]
  },
  {
   "cell_type": "markdown",
   "metadata": {},
   "source": [
    "We obtained a repository of chest x-ray images from [Kaggle](https://www.kaggle.com/paultimothymooney/chest-xray-pneumonia) which contains 5,856 chest x-ray images. "
   ]
  },
  {
   "cell_type": "code",
   "execution_count": 4,
   "metadata": {},
   "outputs": [
    {
     "data": {
      "text/plain": [
       "5856"
      ]
     },
     "execution_count": 4,
     "metadata": {},
     "output_type": "execute_result"
    }
   ],
   "source": [
    "index_df = pd.read_csv('data/image_index_dtl.csv')\n",
    "index_df.shape[0]"
   ]
  },
  {
   "cell_type": "markdown",
   "metadata": {},
   "source": [
    "Of these images, approximately 4,200 of them are images of lungs with viral or bacterial pneumonia, and the other 1,600 do not have pneumonia. One potential challenge with the images of pneumonia is the fact that bacterial and viral pneumonia manifest themselves in different ways."
   ]
  },
  {
   "cell_type": "code",
   "execution_count": 5,
   "metadata": {},
   "outputs": [
    {
     "data": {
      "text/plain": [
       "1    4273\n",
       "0    1583\n",
       "Name: condition, dtype: int64"
      ]
     },
     "execution_count": 5,
     "metadata": {},
     "output_type": "execute_result"
    }
   ],
   "source": [
    "index_df.condition.value_counts()"
   ]
  },
  {
   "cell_type": "markdown",
   "metadata": {},
   "source": [
    "<center><img src='images/CXRimages.png' width=400></center>"
   ]
  },
  {
   "cell_type": "markdown",
   "metadata": {},
   "source": [
    "[*↑ Back to overview*](#Overview)\n",
    "***"
   ]
  },
  {
   "cell_type": "markdown",
   "metadata": {},
   "source": [
    "## **Data Preparation** <a id=\"Data-Preparation\"></a>\n",
    "[*↑ Back to overview*](#Overview)"
   ]
  },
  {
   "cell_type": "markdown",
   "metadata": {},
   "source": []
  },
  {
   "cell_type": "markdown",
   "metadata": {},
   "source": [
    "[*↑ Back to overview*](#Overview)\n",
    "***"
   ]
  },
  {
   "cell_type": "markdown",
   "metadata": {},
   "source": [
    "## **Data Analysis** <a id=\"Data-Analysis\"></a>\n",
    "[*↑ Back to overview*](#Overview)"
   ]
  },
  {
   "cell_type": "markdown",
   "metadata": {},
   "source": []
  },
  {
   "cell_type": "markdown",
   "metadata": {},
   "source": [
    "[*↑ Back to overview*](#Overview)\n",
    "***"
   ]
  },
  {
   "cell_type": "markdown",
   "metadata": {},
   "source": [
    "## **Evaluation**<a id=\"Evaluation\"></a>\n",
    "[*↑ Back to overview*](#Overview)\n"
   ]
  },
  {
   "cell_type": "markdown",
   "metadata": {},
   "source": []
  },
  {
   "cell_type": "markdown",
   "metadata": {},
   "source": [
    "[*↑ Back to overview*](#Overview)\n",
    "***"
   ]
  },
  {
   "cell_type": "markdown",
   "metadata": {},
   "source": [
    "## **Conclusion and Next Steps**<a id=\"Conclusion\"></a>\n",
    "[*↑ Back to overview*](#Overview)"
   ]
  },
  {
   "cell_type": "markdown",
   "metadata": {},
   "source": []
  },
  {
   "cell_type": "markdown",
   "metadata": {},
   "source": [
    "[*↑ Back to overview*](#Overview)\n",
    "***"
   ]
  },
  {
   "cell_type": "markdown",
   "metadata": {},
   "source": [
    "## **Endnotes**<a id=\"Endnotes\"></a>\n",
    "[*↑ Back to overview*](#Overview)"
   ]
  },
  {
   "cell_type": "markdown",
   "metadata": {},
   "source": [
    "<a id=\"FN-1\"></a> [1:](#FN-1-SRC) https://jamanetwork.com/journals/jamainternalmedicine/article-abstract/485032\n",
    "\n",
    "<a id=\"FN-2\"></a> [2:](#FN-2-SRC) https://www.sciencedirect.com/science/article/pii/S1201971219303534\n",
    "\n",
    "<a id=\"FN-3\"></a> [3:](#FN-3-SRC) https://med.stanford.edu/news/all-news/2017/11/algorithm-can-diagnose-pneumonia-better-than-radiologists.html"
   ]
  },
  {
   "cell_type": "markdown",
   "metadata": {},
   "source": [
    "[*↑ Back to overview*](#Overview)\n",
    "***"
   ]
  },
  {
   "cell_type": "code",
   "execution_count": null,
   "metadata": {},
   "outputs": [],
   "source": []
  }
 ],
 "metadata": {
  "kernelspec": {
   "display_name": "learn-env",
   "language": "python",
   "name": "learn-env"
  },
  "language_info": {
   "codemirror_mode": {
    "name": "ipython",
    "version": 3
   },
   "file_extension": ".py",
   "mimetype": "text/x-python",
   "name": "python",
   "nbconvert_exporter": "python",
   "pygments_lexer": "ipython3",
   "version": "3.6.10"
  }
 },
 "nbformat": 4,
 "nbformat_minor": 4
}
